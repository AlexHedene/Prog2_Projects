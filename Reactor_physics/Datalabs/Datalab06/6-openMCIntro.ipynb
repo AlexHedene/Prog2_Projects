{
 "cells": [
  {
   "cell_type": "markdown",
   "metadata": {},
   "source": [
    "# OpenMC introduction\n",
    "\n",
    "Please indicate your name below, since you will need to submit this notebook completed latest the day after the datalab.\n",
    "\n",
    "Don't forget to save your progress during the datalab to avoid any loss due to crashes."
   ]
  },
  {
   "cell_type": "code",
   "execution_count": null,
   "metadata": {},
   "outputs": [],
   "source": [
    "name='Alexander Hedene'"
   ]
  },
  {
   "cell_type": "markdown",
   "metadata": {},
   "source": [
    "In our previous endeavours we experienced that performing an accurate simulation of particle transport is not trivial. There are several softwares developed to solve this task, and for someone who is more interested in performing the analysis of a reactor core, it is often better to use an already verified and validated code instead of developing a new one from scratch. There are several such codes solving neutron transport either relying on deterministic or stochastic methods. During this datalab we will use a rather young code called OpenMC, which was originally developed at MIT.  \n",
    "\n",
    "OpenMC is a Monte Carlo neutron and photon transport simulation code. It can be used both for fixed source and for criticality calculations. The user can define complicated geometries with constructive solid geometries. OpenMC is written in C++, however it has a rich Python API, which will allow us to comminicate with the code through jupyter notebooks.\n",
    "\n",
    "OpenMC is not yet an industrial standard code, however our motivation to use it for this course was that it is \n",
    "\n",
    "1. freely available\n",
    "2. the important physics we could not tackle within this course ourselves (eg. thermal scattering and several reactions) are implemented in it\n",
    "3. since we can interact with the code through Python, we can deepen our programming skills\n",
    "4. for small problems it runs relatively fast on a single PC\n",
    "\n",
    "That said, today we are going to walk through a simple openMC input file. During this course we will only work with pincell models (ie. a single fuel pin infinite in the axial length with reflective boundaries, so neutrons are reflected back from the boundary in this way approximating an infinite core). This is of course a simplification of a complete reactor core, but it will still allow us to see a lot of cool physics. One could of course perform simulations at the assembly level or for a full-core, however such simulations would be more time consuming. There are several further examples at https://docs.openmc.org/.\n",
    "\n",
    "**Note that this notebook should be opened from an environment where openmc is available!**\n",
    "\n",
    "## The input file\n",
    "\n",
    "During the datalab we will define the following problem which roughly matches a typical western-type pressurized water reactor's conditions:\n",
    "\n",
    "- PWR pincell with reflective boundaries\n",
    "- Fuel radius: 0.41 cm\n",
    "- Fuel material: enriched UO2 with density 10.5 g/cm3\n",
    "- Cladding inner/outer radius: 0.42/0.45 cm\n",
    "- Cladding material: zirconium  with density 6.6 g/cm3\n",
    "- Coolant/moderator: pressurized water with density 0.75 g/cm3\n",
    "- Cell pitch: 1.26 cm\n",
    "\n",
    "Note that in practice, PWR fuel cladding is made of an alloy called Zircaloy, nevertheless it has little influence on the neutron economy, therefore we will approximate it as pure zirconium with its natural abundance of isotopes.\n",
    "\n",
    "So what do we need in order to define an openMC input?\n",
    "\n",
    "1. Materials: which materials are included in our geometry (nuclide content, temperature, density)?\n",
    "2. Geometry: how does the geometry look like? \n",
    "3. Tally: what are the quantities of interest? For example flux, or fission rate?\n",
    "4. Settings: how many neutrons we would like to include in the calculation?\n",
    "\n",
    "For each of these steps we will use the python API to export an xml file, which the code will use once we execute it. Note however that one could directly write xml files without using python, and run the code outside of Jupyter. For larger problems this is sometimes better. However we will want to analyse the output results in python, and sometimes we will script the input, so for us it is handy to use the python API.\n",
    "\n",
    "Let's get started!\n",
    "\n",
    "### Import\n",
    "\n",
    "We will need first to import openmc, and of course anything else we might need."
   ]
  },
  {
   "cell_type": "code",
   "execution_count": 1,
   "metadata": {},
   "outputs": [],
   "source": [
    "import openmc\n",
    "import numpy as np\n",
    "import matplotlib.pyplot as plt\n",
    "import os"
   ]
  },
  {
   "cell_type": "markdown",
   "metadata": {},
   "source": [
    "### Materials\n",
    "\n",
    "Do you remember the example `Material()` class we developed before? That is pretty similar to the `Material()` class of openMC. We create an instance of `Material()`, with a numeric id of the material, and then we can add nuclides, and set the density. We can also set the temperature (which can be 294 K, 600 K, 900 K, 1200 K, 2500 K, the temperatures at which the available cross sections are evaluated). There are other options as well (for example one can directly set the enrichment), what you can find in the documentation.\n",
    "\n",
    "If the nuclide inventory is not relevant for a material, we can add elements, in which case openMC will assume the natural abundance of isotopes.\n",
    "\n",
    "Notice that for water we will need to link to the $S(\\alpha,\\beta)$ laws, since we need to take into account the molecular bounds for scattering on hydrogen. \n",
    "\n",
    "Finally, we create an instance of `Materials()` (note, it is plural now!), and link the materials of the problem to this object. Then with the `export_to_xml()` method we export the information into an xml file. "
   ]
  },
  {
   "cell_type": "code",
   "execution_count": 2,
   "metadata": {},
   "outputs": [],
   "source": [
    "uo2 = openmc.Material(1, \"uo2\",temperature=1200)\n",
    "# Add nuclides to uo2\n",
    "uo2.add_nuclide('U235', 0.04)\n",
    "uo2.add_nuclide('U238', 0.96)\n",
    "uo2.add_nuclide('O16', 2.0)\n",
    "uo2.set_density('g/cm3', 10.5)\n",
    "\n",
    "\n",
    "#cladding\n",
    "zirconium = openmc.Material(2, \"zirconium\",temperature=900)\n",
    "zirconium.add_element('Zr', 1.0)\n",
    "zirconium.set_density('g/cm3', 6.6)\n",
    "\n",
    "#coolant\n",
    "water = openmc.Material(3, \"h2o\")\n",
    "water.add_nuclide('H1', 2.0)\n",
    "water.add_nuclide('O16', 1.0)\n",
    "water.set_density('g/cm3', 0.75)\n",
    "\n",
    "water.add_s_alpha_beta('c_H_in_H2O')\n",
    "\n",
    "#creating Materials() and exporting to xml\n",
    "mats = openmc.Materials([uo2, zirconium, water])\n",
    "mats.export_to_xml()"
   ]
  },
  {
   "cell_type": "markdown",
   "metadata": {},
   "source": [
    "We can print the content of the created xml file, with the linux command `cat`. (The `!` sign let's the python interpreter know that this is a command of the operating system.\n",
    "\n",
    "You can see how all the information was structured in an xml (which is probably familiar from the previous datalab).  "
   ]
  },
  {
   "cell_type": "code",
   "execution_count": 3,
   "metadata": {},
   "outputs": [
    {
     "name": "stdout",
     "output_type": "stream",
     "text": [
      "<?xml version='1.0' encoding='utf-8'?>\n",
      "<materials>\n",
      "  <material depletable=\"true\" id=\"1\" name=\"uo2\" temperature=\"1200\">\n",
      "    <density units=\"g/cm3\" value=\"10.5\" />\n",
      "    <nuclide ao=\"0.04\" name=\"U235\" />\n",
      "    <nuclide ao=\"0.96\" name=\"U238\" />\n",
      "    <nuclide ao=\"2.0\" name=\"O16\" />\n",
      "  </material>\n",
      "  <material id=\"2\" name=\"zirconium\" temperature=\"900\">\n",
      "    <density units=\"g/cm3\" value=\"6.6\" />\n",
      "    <nuclide ao=\"0.5145\" name=\"Zr90\" />\n",
      "    <nuclide ao=\"0.1122\" name=\"Zr91\" />\n",
      "    <nuclide ao=\"0.1715\" name=\"Zr92\" />\n",
      "    <nuclide ao=\"0.1738\" name=\"Zr94\" />\n",
      "    <nuclide ao=\"0.028\" name=\"Zr96\" />\n",
      "  </material>\n",
      "  <material id=\"3\" name=\"h2o\">\n",
      "    <density units=\"g/cm3\" value=\"0.75\" />\n",
      "    <nuclide ao=\"2.0\" name=\"H1\" />\n",
      "    <nuclide ao=\"1.0\" name=\"O16\" />\n",
      "    <sab name=\"c_H_in_H2O\" />\n",
      "  </material>\n",
      "</materials>\n"
     ]
    }
   ],
   "source": [
    "!cat materials.xml"
   ]
  },
  {
   "cell_type": "markdown",
   "metadata": {},
   "source": [
    "### Geometry\n",
    "\n",
    "Defining the geometry is only marginally more complicated. We will need to define surfaces (eg. `ZCylinder()`, `XPlane()`, and `YPlane()`), and regions bounded by the surfaces. Then we link the regions and the filling material to `Cell()` objects, which all have a numeric ID.  \n",
    "\n",
    "Our geometry is infinite in the axial dimension. First we define three cylinders (the bounding surfaces of the fuel, and the cladding). Then we use constuctive solid geometry rules to define the regions between the surfaces, and create the fuel pin. Finally we will define the water region around the fuel.\n",
    "\n",
    "We will then need to define a `Universe()` (the usefulness of this is not apparent in our simple exercise, but when defining reactor cores with repetitive patterns of various types of fuel assemblies, then \"universes\" are the way to handle this in most neutron transport code. You do not need to worry about this in this course). And finally we create a `Geometry()`, and link the universe. We will then export the information into an xml file. \n",
    "\n",
    "We further commented the lines to explain them"
   ]
  },
  {
   "cell_type": "code",
   "execution_count": 4,
   "metadata": {},
   "outputs": [],
   "source": [
    "fuel_or = openmc.ZCylinder(r=0.41) #fuel cylinder with outer radius\n",
    "clad_ir = openmc.ZCylinder(r=0.42) #clad inner cylinder with inner radius\n",
    "clad_or = openmc.ZCylinder(r=0.45) #clad outer cylinder with outer radius\n",
    "\n",
    "\n",
    "fuel_region = -fuel_or                #inside the fuel cylinder\n",
    "gap_region = +fuel_or & -clad_ir      #outside of fuel cylinder and inside of clad inner cylinder\n",
    "clad_region = +clad_ir & -clad_or     #outside of clad inner cylinder and inside of clad outer cylinder\n",
    "\n",
    "fuel = openmc.Cell(1, 'fuel')\n",
    "fuel.fill = uo2\n",
    "fuel.region = fuel_region\n",
    "\n",
    "#notice that for the gap between the fuel and the clad we do not need to link a material\n",
    "# we consider that there is void there (considering the low density of the filling gas this is a fair approximation)\n",
    "gap = openmc.Cell(2, 'air gap')\n",
    "gap.region = gap_region\n",
    "\n",
    "clad = openmc.Cell(3, 'clad')\n",
    "clad.fill = zirconium\n",
    "clad.region = clad_region\n",
    "\n",
    "\n",
    "\n",
    "pitch = 1.26\n",
    "#we define the x and y planes with boundary condition\n",
    "left = openmc.XPlane(x0=-pitch/2, boundary_type='reflective')\n",
    "right = openmc.XPlane(x0=pitch/2, boundary_type='reflective')\n",
    "bottom = openmc.YPlane(y0=-pitch/2, boundary_type='reflective')\n",
    "top = openmc.YPlane(y0=pitch/2, boundary_type='reflective')\n",
    "\n",
    "#outside of left and inside of right, outside of bottom, and inside of top and outside of clad outer cylinder\n",
    "water_region = +left & -right & +bottom & -top & +clad_or\n",
    "\n",
    "moderator = openmc.Cell(4, 'moderator')\n",
    "moderator.fill = water\n",
    "moderator.region = water_region\n",
    "\n",
    "root = openmc.Universe(cells=[fuel, gap, clad, moderator])\n",
    "\n",
    "geom = openmc.Geometry()\n",
    "geom.root_universe = root\n",
    "geom.export_to_xml()"
   ]
  },
  {
   "cell_type": "markdown",
   "metadata": {},
   "source": [
    "We can again inspect the xml file."
   ]
  },
  {
   "cell_type": "code",
   "execution_count": 5,
   "metadata": {},
   "outputs": [
    {
     "name": "stdout",
     "output_type": "stream",
     "text": [
      "<?xml version='1.0' encoding='utf-8'?>\n",
      "<geometry>\n",
      "  <cell id=\"1\" material=\"1\" name=\"fuel\" region=\"-1\" universe=\"1\" />\n",
      "  <cell id=\"2\" material=\"void\" name=\"air gap\" region=\"1 -2\" universe=\"1\" />\n",
      "  <cell id=\"3\" material=\"2\" name=\"clad\" region=\"2 -3\" universe=\"1\" />\n",
      "  <cell id=\"4\" material=\"3\" name=\"moderator\" region=\"4 -5 6 -7 3\" universe=\"1\" />\n",
      "  <surface coeffs=\"0.0 0.0 0.41\" id=\"1\" type=\"z-cylinder\" />\n",
      "  <surface coeffs=\"0.0 0.0 0.42\" id=\"2\" type=\"z-cylinder\" />\n",
      "  <surface coeffs=\"0.0 0.0 0.45\" id=\"3\" type=\"z-cylinder\" />\n",
      "  <surface boundary=\"reflective\" coeffs=\"-0.63\" id=\"4\" type=\"x-plane\" />\n",
      "  <surface boundary=\"reflective\" coeffs=\"0.63\" id=\"5\" type=\"x-plane\" />\n",
      "  <surface boundary=\"reflective\" coeffs=\"-0.63\" id=\"6\" type=\"y-plane\" />\n",
      "  <surface boundary=\"reflective\" coeffs=\"0.63\" id=\"7\" type=\"y-plane\" />\n",
      "</geometry>\n"
     ]
    }
   ],
   "source": [
    "!cat geometry.xml"
   ]
  },
  {
   "cell_type": "markdown",
   "metadata": {},
   "source": [
    "### Tally\n",
    "\n",
    "We can describe the physical quantities of interest with tallies. If no tally is defined the code will only calculate the k-effective.\n",
    "\n",
    "As we can see in the openMC documentation (in the user's guide) a tally is a quantity defined as\n",
    "\n",
    "\\begin{equation}\n",
    "X = \\underbrace{\\int d\\mathbf{r} \\int d\\mathbf{\\Omega} \\int\n",
    "dE}_{\\text{filters}} \\underbrace{f(\\mathbf{r}, \\mathbf{\\Omega},\n",
    "E)}_{\\text{scores}} \\psi (\\mathbf{r}, \\mathbf{\\Omega}, E)\n",
    "\\end{equation}\n",
    "\n",
    "For example if function $f()$ would be unity, we would score the flux in a certain part of the phase space. If function $f()$ is a macroscopic cross section, we would score reaction rates.\n",
    "\n",
    "Therefore we have to specify two things for a tally, which is created with a `Tally()` object:\n",
    "\n",
    "1. *filters*: which part of the phase space we would like score at (for example only a certain part of the geometry is of interest, or certain energy bins)?\n",
    "2. *scores*: what is the physical quantity of interest (for example flux, fission rate etc)\n",
    "\n",
    "You can find a detailed description of the available scores and filters in the documentation.\n",
    "\n",
    "Once the tallies are defined, we will need to link them into a `Tallies()` object, and export an xml file.\n",
    "\n",
    "In the following code block we define three tallies.\n",
    "\n",
    "1. tally for the neutron spectrum and the fission rate vs energy in the fuel\n",
    "2. tally for the neutron spectrum in the moderator\n",
    "3. a Mesh tally along the x-axis to tally the spatial dependence of the flux with three energy groups (thermal: 0-1eV, epithermal: 1eV-100keV, fast: 100keV-20MeV). Note, that we have to define 2 dimensions even if only 1 dimension is discretized spatially.\n",
    "\n",
    "The reason why we tally the fission rate as well in the 1st tally is to see how openMC will store the results. "
   ]
  },
  {
   "cell_type": "code",
   "execution_count": 6,
   "metadata": {},
   "outputs": [],
   "source": [
    "# Tally 1: energy spectrum in fuel\n",
    "cell_filter1 = openmc.CellFilter(fuel)\n",
    "energybins=np.logspace(-2,7,1001) #1000 bins between 1e-2 eV and 1e7 eV\n",
    "energy_filter = openmc.EnergyFilter(energybins)\n",
    "\n",
    "t1 = openmc.Tally(1)\n",
    "t1.filters = [cell_filter1,energy_filter]\n",
    "t1.scores = ['flux','fission']\n",
    "\n",
    "# Tally 2: energy spectrum in moderator\n",
    "# we can use the same energy_filter as before\n",
    "cell_filter2 = openmc.CellFilter(moderator)\n",
    "\n",
    "t2 = openmc.Tally(2)\n",
    "t2.filters = [cell_filter2,energy_filter]\n",
    "t2.scores = ['flux']\n",
    "\n",
    "# Tally 3: mesh tally in dimension x in three energy groups\n",
    "energy_filter2 = openmc.EnergyFilter([0., 1, 100e3, 20.0e6])\n",
    "myMesh=openmc.RegularMesh(name='xmesh')\n",
    "myMesh.dimension=[100,1] #number of spatial bins along x axis and y axis\n",
    "myMesh.lower_left=[-pitch/2,-pitch/2]\n",
    "myMesh.upper_right=[pitch/2,pitch/2]\n",
    "mesh_filter = openmc.MeshFilter(myMesh)\n",
    "\n",
    "t3 = openmc.Tally(3)\n",
    "t3.filters = [mesh_filter,energy_filter2]\n",
    "t3.scores = ['flux']\n",
    "\n",
    "\n",
    "\n",
    "tallies = openmc.Tallies([t1,t2,t3])\n",
    "tallies.export_to_xml()"
   ]
  },
  {
   "cell_type": "markdown",
   "metadata": {},
   "source": [
    "We can inspect the xml file."
   ]
  },
  {
   "cell_type": "code",
   "execution_count": 7,
   "metadata": {},
   "outputs": [
    {
     "name": "stdout",
     "output_type": "stream",
     "text": [
      "<?xml version='1.0' encoding='utf-8'?>\n",
      "<tallies>\n",
      "  <!--xmesh-->\n",
      "  <mesh id=\"1\">\n",
      "    <dimension>100 1</dimension>\n",
      "    <lower_left>-0.63 -0.63</lower_left>\n",
      "    <upper_right>0.63 0.63</upper_right>\n",
      "  </mesh>\n",
      "  <filter id=\"1\" type=\"cell\">\n",
      "    <bins>1</bins>\n",
      "  </filter>\n",
      "  <filter id=\"2\" type=\"energy\">\n",
      "    <bins>0.01 0.010209394837076797 0.010423174293933041 0.010641430182243158 0.010864256236170655 0.01109174815262401 0.011324003632355572 0.011561122421920988 0.011803206356517298 0.012050359403717972 0.012302687708123816 0.012560299636948748 0.012823305826560218 0.01309181922999407 0.013365955165464419 0.013645831365889245 0.013931568029453029 0.014223287871228198 0.014521116175877419 0.014825180851459537 0.01513561248436208 0.01545254439538414 0.015776112696993486 0.016106456351782705 0.016443717232149314 0.016788040181225605 0.017139573075084253 0.017498466886246566 0.017864875748520505 0.018238957023196372 0.018620871366628676 0.019010782799232996 0.01940885877592778 0.01981527025805098 0.020230191786782717 0.02065380155810529 0.021086281499332886 0.021527817347243725 0.021978598727848252 0.022438819237827663 0.022908676527677724 0.02338837238659355 0.02387811282913177 0.024378108183687523 0.024888573182823902 0.02540972705549305 0.025941793621188137 0.02648500138606701 0.02703958364108843 0.027605778562203448 0.028183829312644536 0.028773984147356695 0.029376496519615304 0.0299916251898765 0.030619634336906773 0.03126079367123954 0.031915378551007616 0.03258367010020087 0.03326595532940043 0.03396252725904083 0.034673685045253165 0.03539973410834346 0.03614098626396131 0.036897759857015024 0.03767037989839089 0.03845917820453535 0.03926449353995997 0.04008667176273028 0.040926065973001094 0.041783036664662175 0.04265795188015925 0.043551187368556836 0.044463126746910865 0.045394161665020326 0.046344691973628796 0.04731512589614803 0.048305880203977254 0.04931738039549359 0.05035006087879047 0.051404365158242586 0.05248074602497726 0.05357966575133417 0.05470159628939716 0.05584701947368306 0.05701642722807472 0.058210321777087126 0.059429215861557264 0.06067363295885053 0.06194410750767812 0.06324118513762193 0.06456542290346556 0.06591738952443212 0.06729766562843174 0.06870684400142321 0.07014552984199714 0.07161434102129019 0.07311390834834172 0.07464487584100661 0.07620790100254118 0.07780365510398041 0.07943282347242812 0.08109610578538404 0.0827942163712334 0.084527884516029 0.08629785477669702 0.08810488730080138 0.08994975815300352 0.0918332596483581 0.09375620069258803 0.09571940712948442 0.09772372209558101 0.0997700063822553 0.1018591388054117 0.1039920165829059 0.10616955571987247 0.10839269140212032 0.11066237839776659 0.11297959146727976 0.11534532578210918 0.11776059735208072 0.12022644346174126 0.12274392311584073 0.12531411749414156 0.12793813041575247 0.1306170888131841 0.1333521432163324 0.13614446824659496 0.13899526312133534 0.1419057521689092 0.14487718535447608 0.1479108388168207 0.15100801541641476 0.1541700452949559 0.15739828644662188 0.1606941253012877 0.16405897731995386 0.16749428760264373 0.1710015315090287 0.17458221529205037 0.17823787674480893 0.18197008586099836 0.1857804455091698 0.18967059212111453 0.19364219639466068 0.19769696401118597 0.20183663636815607 0.20606299132699996 0.2103778439766475 0.2147830474130533 0.21928049353504483 0.2238721138568339 0.228559880337543 0.2333458062281002 0.23823194693586902 0.24322040090738148 0.2483133105295569 0.2535128630497907 0.258821291515309 0.26424087573219457 0.2697739432444919 0.2754228703338166 0.28119008303989396 0.287078058202469 0.29308932452503195 0.2992264636608189 0.30549211132155124 0.3118889584093937 0.31841975217261237 0.3250872973854342 0.3318944575526103 0.3388441561392024 0.3459393778261219 0.3531831697919568 0.3605786430216424 0.36812897364253133 0.37583740428844414 0.38370724549227864 0.391741877107783 0.39994474976109734 0.4083193863326921 0.41686938347033525 0.42559841313374286 0.4345102241715714 0.4436086439314323 0.4528975799036207 0.4623810213992601 0.47206304126359044 0.4819477976251272 0.49203953568145087 0.5023425895223869 0.5128613839913648 0.5236004365857501 0.5345643593969713 0.5457578610912708 0.5571857489319296 0.5688529308438414 0.5807644175213117 0.5929253245799997 0.6053408747539133 0.6180164001384157 0.6309573444801929 0.6441692655151772 0.6576578373554203 0.6714288529259522 0.6854882264526613 0.699841996002273 0.7144963260755132 0.7294575102545684 0.7447319739059889 0.7603262769401815 0.7762471166286915 0.7925013304804713 0.8090958991783821 0.8260379495771784 0.8433347577642752 0.8609937521846003 0.8790225168308842 0.8974287945007481 0.9162204901219992 0.9354056741475516 0.9549925860214354 0.9749896377173867 0.9954054173515265 1.0162486928706949 1.0375284158180127 1.0592537251772887 1.0814339512979374 1.1040786199020725 1.1271974561755105 1.1508003889444356 1.174897554939529 1.1994993031493781 1.2246161992650477 1.2502590302177201 1.2764388088113434 1.3031667784522987 1.33045441797809 1.358313446587154 1.386755828871888 1.415793779957081 1.4454397707459266 1.4757065332758947 1.5066070661867417 1.5381546403030342 1.5703628043335514 1.6032453906900401 1.6368165214278085 1.671090614310707 1.7060823890031225 1.7418068733916126 1.7782794100389228 1.815515662773135 1.8535316234148105 1.892343618644974 1.9319683170169242 1.9724227361148536 2.0137242498623875 2.0558905959841405 2.098939883623522 2.142890601120058 2.187761623949552 2.2335722228305306 2.280342072000416 2.3280912576650077 2.376840286624876 2.426610095082414 2.4774220576332837 2.5292979964461444 2.5822601906345954 2.6363313858253785 2.691534803926914 2.7478941531023944 2.805433637951713 2.86417796990658 2.924152377843334 2.9853826189179573 3.047894989627983 3.111716337106017 3.176874070649769 3.24339617349349 3.311311214825911 3.3806483620598153 3.4514373933585607 3.523708710424869 3.5974933515574197 3.672823004980846 3.7497300224548336 3.828247433168224 3.908408957924017 3.9902490236214208 4.073802778041126 4.159106104940219 4.246195639463125 4.335108783875288 4.4258837236262645 4.518559443749222 4.61317574560379 4.709773263969524 4.808393484497285 4.909078761526029 5.011872336272719 5.116818355403073 5.223961889991197 5.333348954876207 5.445026528424209 5.559042572704032 5.675446054085471 5.794286964268809 5.9156163417547365 6.039486293763794 6.165950018614816 6.295061828571974 6.426877173170194 6.5614526630290495 6.698846094165258 6.839116472814292 6.982324040771711 7.128530301265191 7.277798045368234 7.430191378967014 7.585775750291836 7.744617978025184 7.906786279998245 8.072350302488374 8.241381150130021 8.413951416451948 8.590135215053952 8.77000821143634 8.953647655495937 9.141132414702499 9.332543007969905 9.52796164023651 9.72747223776965 9.931160484209334 10.13911385736679 10.35142166679343 10.568175092136574 10.789467222298285 11.015393095414144 11.246049739669257 11.481536214968818 11.721953655481304 11.967405313072431 12.21799660164871 12.473835142429419 12.735030810166615 13.001695780332899 13.273944577297389 13.55189412351035 13.835663789717795 14.12537544622754 14.42115351524868 14.723125024327178 15.031419660900209 15.346169827992941 15.667510701081486 15.99558028614668 16.33051947894333 16.672472125510627 17.0215850839495 17.378008287493746 17.741894808901645 18.113400926196007 18.492686189780777 18.879913490962924 19.275249131909344 19.67886289706843 20.090928126087277 20.511621788255646 20.941124558508914 21.379620895022303 21.827299118430012 22.284351492703028 22.750974307720696 23.22736796357105 23.71373705661653 24.210290467361776 24.71724145016129 25.234807724805727 25.763211570025728 26.302679918953814 26.853444456585063 27.415741719278806 27.9898131963436 28.575905433749437 29.174270140011657 29.785164294291878 30.40885025676277 31.045595881283525 31.695674630434905 32.35936569296281 33.03695410368145 33.72873086588685 34.43499307633384 35.1560440528298 35.8921934645005 36.64375746478329 37.41105882720529 38.194427084004644 38.99419866765432 39.81071705534969 40.64433291652123 41.49540426343628 42.36429660495409 43.251383103500835 44.157044735331205 45.081670454146 46.02565735813558 46.98941086052152 47.97334486366887 48.97788193684456 50.003453497697826 51.05049999754059 52.119471110508 53.21082592667936 54.3250331492433 55.462571295791044 56.62392890382529 57.80960474057175 59.02010801718442 60.255958607435744 61.51768727098678 62.80583588133174 64.12095765851609 65.46361740672747 66.83439175686141 68.23386941416689 69.6626514110768 71.12135136533288 72.61059574351543 74.13102413009169 75.68328950209735 77.26805850957021 78.8860117618554 80.5378441199066 82.22426499470703 83.94599865193965 85.70378452303692 87.49837752274354 89.33054837332944 91.20108393559087 93.11078754678302 95.0604793656281 97.0509967245489 99.08319448927665 101.15794542598982 103.27614057613958 105.43868963912581 107.64652136298349 109.90058394325196 112.20184543019629 114.55129414455337 116.949939101987 119.3988104464273 121.89895989248649 124.45146117713844 127.05741052085419 129.71792709839545 132.43415351946643 135.2072563194275 138.03842646028838 140.92887984218748 143.87985782558437 146.89262776438662 149.9684835502371 153.10874616820288 156.31476426409537 159.58791472367304 162.92960326397213 166.34126503701697 169.82436524617424 173.38039977541374 177.01089583174183 180.71741260109255 184.50154191794738 188.36490894897983 192.30917289101575 196.33602768360433 200.44720273651592 204.64446367246737 208.92961308540364 213.3044913146575 217.7709772353159 222.33098906514007 226.98648518838212 231.7394649968475 236.59196974857562 241.54608344449403 246.6039337234336 251.76769277588545 257.03957827688595 262.42185433844395 267.9168324819031 273.5268726306708 279.25438412373364 285.10182675039096 291.07171180666023 297.1666031738025 303.38911841942655 309.74192992165774 316.2277660168379 322.8494121712631 329.6097121774576 336.5115693754901 343.5579478998743 350.7518739525679 358.0964371026355 365.5947916131247 373.25015779572067 381.06582339377263 389.04514499428046 397.1915494694397 405.5085354483835 413.9996748197304 422.6686142656024 431.519076827765 440.5548635065525 449.7798548932875 459.1980128368685 468.81338214526454 478.630092322638 488.6523593428336 498.88448746001166 509.3308710571953 519.9959965335152 530.8844442309879 542.0008904016238 553.3501092157359 564.9369748123023 576.7664633922498 588.8436553555883 601.1737374832778 613.7620051647933 626.6138646723349 639.7348354826481 653.1305526474716 666.8067692136218 680.7693586937403 695.0243175887962 709.5777679633887 724.4359600749891 739.6052750582375 755.0922276654327 770.9034690644293 787.0457896950985 803.526122185616 820.3515443298177 837.5292821268827 855.0667128846823 872.9713683881112 891.2509381337441 909.9132726322508 928.9663867799362 948.4184633008958 968.2778562612486 988.5530946569371 1009.2528860766835 1030.386120441616 1051.9618738232214 1073.989412341244 1096.478196143185 1119.4378834671502 1142.8783347897713 1166.8096170609606 1191.2420080273737 1216.1860006463678 1241.6523075924094 1267.6518658578448 1294.1958414499836 1321.2956341865738 1348.9628825916532 1377.2094688939444 1406.0475241299127 1435.489433353656 1465.5478409559098 1496.235656094433 1527.5660582380701 1559.5525028269524 1592.20872705117 1625.5487557504816 1659.5869074375596 1694.3378004473252 1729.8163592150995 1766.0378206861637 1803.0177408595662 1840.7720014689544 1879.3168168032685 1918.668740670287 1958.8446735059888 1999.8618696327408 2041.7379446695277 2084.4908830972886 2128.139045982709 2172.7011788637433 2218.1964198002147 2264.6443075930574 2312.064790175594 2360.478233180573 2409.905428686593 2460.3676041476274 2511.886431509577 2564.484036517716 2618.183008218981 2673.006408663309 2728.9777828080405 2786.121168629766 2844.461107447914 2904.022654464445 2964.8313895243396 3026.913428101305 3090.2954325135856 3155.0046233746243 3221.0687912834346 3288.516308759826 3357.376142429545 3427.6778654644977 3499.4516702835695 3572.728381519288 3647.5394692560726 3723.9170625456827 3801.893963205605 3881.5036599064783 3962.7803425543934 4045.7589169744206 4130.475019901611 4216.965034285822 4305.266104917101 4395.416154378243 4487.453899331314 4581.41886714533 4677.351412871981 4775.292736576901 4875.28490103386 4977.37084978935 5081.594425605599 5188.000389289609 5296.63443891657 5407.543229455804 5520.774392807573 5636.376558259537 5754.399373371566 5874.893525297757 5997.910762555089 6123.503917247734 6251.726927756849 6382.6348619054825 6516.283940608414 6652.731562017406 6792.036326171843 6934.25806016568 7079.457843841373 7227.698036021702 7379.042301291 7533.55563733717 7691.3044028660825 7852.356346100711 8016.78063387679 8184.647881347887 8356.030182312474 8531.001140175878 8709.635899560795 8892.01117857948 9078.205301781843 9268.298233793485 9462.37161365793 9660.50878989812 9862.794856312099 10069.316688518024 10280.162981264724 10495.424286523219 10715.193052376047 10939.56366272093 11168.632477805588 11402.497875611672 11641.26029410491 11885.022274370165 12133.888504649762 12387.965865303691 12647.363474711496 12912.192736135334 13182.567385564047 13458.603540559468 13740.41975012515 14028.13704561956 14321.878992735423 14621.771744567153 14927.944095789944 15240.527537972906 15559.656316050718 15885.467485977775 16218.100973589299 16557.69963469526 16904.409316432633 17258.378919902003 17619.760464116272 17988.709151287876 18365.383433483436 18749.94508067417 19142.55925021082 19543.394557753923 19952.62314968879 20370.42077705715 20796.966871036937 21232.444620002192 21677.04104819692 22130.947096056363 22594.357702209734 23067.471887200667 23550.49283896009 24043.6280000693 24547.089156850285 25061.09253032109 25585.858869056425 26121.61354399205 26668.586645214753 27227.0130807791 27797.132677592883 28379.190284415523 28973.435877013213 29580.124665515403 30199.51720402013 30831.879502493535 31477.483141013112 32136.60538640315 32809.52931131184 33496.54391578273 34197.94425137087 34914.03154785855 35645.11334262439 36391.503612720706 37153.522909717205 37931.498497368164 38725.764492161645 39536.662006812745 40364.539296760486 41209.75190973296 42072.662838444376 42953.64267648864 43853.06977749852 44771.33041763623 45708.81896148742 46665.93803142882 47643.09868054157 48640.72056914609 49659.23214503358 50699.070827470336 51760.68319505671 52844.52517751802 53951.062251512674 55080.7696405403 56234.13251903479 57411.64622073268 58613.81645140285 59841.159506031865 61094.202490557145 62373.483548241915 63679.55209079149 65012.969034309026 66374.30704019076 67764.15076106743 69183.09709189362 70631.75542629608 72110.74791828991 73620.70974947346 75162.28940182044 76736.14893618185 78342.96427662103 79983.42550070275 81658.23713585906 83368.11846196331 85113.80382023759 86896.04292863 88715.60120379599 90573.26008981997 92469.8173938221 94406.08762859227 96382.90236239685 98401.11057611325 100461.57902783947 102565.19262514057 104712.85480508984 106905.48792226554 109144.03364487548 111429.45335917291 113762.72858234285 116144.86138403414 118576.87481671596 121059.81335504804 123594.74334445094 126182.75345906681 128824.95516931324 131522.48321922377 134276.49611378615 137088.1766164852 139958.7322572615 142889.39585111005 145881.42602753473 148936.10777109125 152054.7529732494 155238.70099580815 158489.3192461111 161808.00376430643 165196.17982290115 168655.3025388739 172186.8574986006 175792.36139586894 179473.36268325246 183231.44223712073 187068.2140365798 190985.32585662368 194984.45997580414 199067.33389871844 203235.70109362208 207491.35174549063 211836.11352485 216271.85237270157 220800.47330188967 225423.9212152428 230144.1817408504 234963.28208483048 239883.29190194848 244906.32418447416 250034.53616964296 255270.1302661242 260615.35499988924 266072.50597988087 271643.9268839078 277332.0104651838 283139.19957993727 289067.98823654716 295120.9226666384 301300.6024186115 307609.6814740705 314050.869387621 320626.93245054607 327340.6948788379 334195.04002611357 341192.9116219281 348337.3150360116 355631.3185689847 363078.054770101 370680.7217825752 378442.5847170928 386366.977054069 394457.30207527766 402717.0343254587 411149.72110452125 419758.98399100685 428548.5203974392 437522.1051582512 446683.59215096256 456036.91595129593 465586.09352295817 475335.2259428049 485288.50016212 495450.19080478954 505824.6620031138 516416.36927207006 527229.8614228222 538269.782516287 549540.8738576237 561047.97603247 572796.030985828 584790.0841444801 597035.2865838367 609536.8972401681 622300.2851691588 635330.9318517422 648634.4335482374 662216.5037017615 676082.9753919805 690239.8038402412 704693.0689671453 719448.9780036983 734513.8681571143 749894.2093324544 765596.6069112554 781627.8045883293 797994.6872679753 814704.2840208388 831763.7711026691 849180.4750363126 866961.875758216 885115.6098308337 903649.4737223004 922571.4271547609 941889.5965228399 961612.2783836639 981747.9430199823 1002305.2380778984 1023292.9922807537 1044720.2192208004 1066596.1212302546 1088930.093333431 1111731.7272815895 1135010.8156723143 1158777.3561551261 1183041.555725161 1207813.8351067773 1233104.833228907 1258925.411794166 1285286.6599436153 1312199.8990191987 1339676.6874259317 1367728.8255958466 1396368.3610559362 1425607.5936021877 1455459.0805819668 1485935.6422870029 1517050.3674593337 1548816.6189124796 1581248.0392703826 1614358.556826487 1648162.3915255032 1682674.0610704639 1717908.387157586 1753880.5018417602 1790605.8540352946 1828100.216142737 1866379.6908346657 1905460.7179632443 1945360.0816226613 1986094.9173573717 2027682.7195212757 2070141.3487910372 2113489.0398366433 2157744.4091526647 2202926.463053456 2249054.6058357735 2296148.648112356 2344228.815319918 2393315.7564053847 2443430.552693971 2494594.726942956 2546830.252585034 2600159.5631652665 2654605.561975536 2710191.6318908418 2766941.645411513 2824879.9749156986 2884031.5031266 2944421.633798757 3006076.3026282294 3069021.988391158 3133285.7243155763 3198895.109691391 3265878.321723353 3334264.127632347 3404081.897010009 3475361.6144320467 3548133.8923357455 3622429.98416698 3698281.7978026588 3775721.90925416 3854783.576657705 3935500.754557764 4017908.1084893923 4102041.029866064 4187935.651179183 4275628.861515865 4365158.322401647 4456562.483975023 4549880.6015004795 4645152.752227493 4742419.852602448 4841723.6758409785 4943106.869868343 5046612.975635276 5152286.445817562 5260172.663907063 5370317.96370251 5482769.649208524 5597576.014951093 5714786.366718666 5834451.042737448 5956621.435290085 6081350.012787164 6208690.342300625 6338697.112569264 6471426.157485831 6606934.480075937 6745280.2769792015 6886522.9634427475 7030723.198838327 7177942.912713614 7328245.331389044 7481695.005111522 7638357.835776892 7798301.105232577 7961593.504173184 8128305.161640995 8298507.6751442 8472274.141405946 8649679.18775692 8830799.00418562 9015711.37605957 9204495.717531685 9397233.105646357 9594006.315159315 9794899.85408698 10000000.0</bins>\n",
      "  </filter>\n",
      "  <filter id=\"3\" type=\"cell\">\n",
      "    <bins>4</bins>\n",
      "  </filter>\n",
      "  <filter id=\"5\" type=\"mesh\">\n",
      "    <bins>1</bins>\n",
      "  </filter>\n",
      "  <filter id=\"4\" type=\"energy\">\n",
      "    <bins>0.0 1.0 100000.0 20000000.0</bins>\n",
      "  </filter>\n",
      "  <tally id=\"1\">\n",
      "    <filters>1 2</filters>\n",
      "    <scores>flux fission</scores>\n",
      "  </tally>\n",
      "  <tally id=\"2\">\n",
      "    <filters>3 2</filters>\n",
      "    <scores>flux</scores>\n",
      "  </tally>\n",
      "  <tally id=\"3\">\n",
      "    <filters>5 4</filters>\n",
      "    <scores>flux</scores>\n",
      "  </tally>\n",
      "</tallies>\n"
     ]
    }
   ],
   "source": [
    "!cat tallies.xml"
   ]
  },
  {
   "cell_type": "markdown",
   "metadata": {},
   "source": [
    "### Settings\n",
    "\n",
    "There are some parameters we will need to set: we have to include the original source location and specify the number of batches and particles per batches for the criticality mode calculation. We also have to specify the number of \"inactive\" batches (these cycles are used to spread the fission source over the geometry, but the scores are still biased due to the original source not sampling all the possible fission sites properly). \n",
    "\n",
    "Since we have no better guess for the moment, we will place the source first in the center of the geometry. The number of batches and particles are set so that the results are reasonably accurate. If you wanted to have more accurate results you could increase these numbers, if you wanted to have shorter calculations, you could decrease these numbers.\n",
    "\n",
    "Again, the instance of the `Setting()` object is exported to xml."
   ]
  },
  {
   "cell_type": "code",
   "execution_count": 8,
   "metadata": {},
   "outputs": [],
   "source": [
    "point = openmc.stats.Point((0, 0, 0))\n",
    "src = openmc.Source(space=point)\n",
    "\n",
    "settings = openmc.Settings()\n",
    "settings.source = src\n",
    "settings.batches = 100\n",
    "settings.inactive = 10\n",
    "settings.particles = 5000\n",
    "settings.export_to_xml()"
   ]
  },
  {
   "cell_type": "code",
   "execution_count": 9,
   "metadata": {},
   "outputs": [
    {
     "name": "stdout",
     "output_type": "stream",
     "text": [
      "<?xml version='1.0' encoding='utf-8'?>\n",
      "<settings>\n",
      "  <run_mode>eigenvalue</run_mode>\n",
      "  <particles>5000</particles>\n",
      "  <batches>100</batches>\n",
      "  <inactive>10</inactive>\n",
      "  <source strength=\"1.0\">\n",
      "    <space type=\"point\">\n",
      "      <parameters>0 0 0</parameters>\n",
      "    </space>\n",
      "  </source>\n",
      "</settings>\n"
     ]
    }
   ],
   "source": [
    "!cat settings.xml"
   ]
  },
  {
   "cell_type": "markdown",
   "metadata": {},
   "source": [
    "## Plotting the geometry\n",
    "\n",
    "There are several ways of plotting the geometry. The simplest inline plotting option is to call the `plot()` method of the `Universe()` object (in our case this was called `root`). This is a wrapper of matplotlib. However, there is a more advanced options by setting up an instance of the `Plot()` class, and running openMC directly to generate a plot. Since in this course we work with a rather simple geometry, we will not look at the advanced plotting option, but you are welcome to check the user's guide."
   ]
  },
  {
   "cell_type": "code",
   "execution_count": 10,
   "metadata": {},
   "outputs": [
    {
     "data": {
      "text/plain": [
       "<matplotlib.image.AxesImage at 0x708d84bbfd00>"
      ]
     },
     "execution_count": 10,
     "metadata": {},
     "output_type": "execute_result"
    },
    {
     "data": {
      "image/png": "[encoded data removed]",
      "text/plain": [
       "<Figure size 258.065x259.74 with 1 Axes>"
      ]
     },
     "metadata": {},
     "output_type": "display_data"
    }
   ],
   "source": [
    "root.plot()"
   ]
  },
  {
   "cell_type": "markdown",
   "metadata": {},
   "source": [
    "## Calculation\n",
    "\n",
    "Finally, we are done, and nothing left just to run openMC and wait for the results. For this we have to specify where the cross section files are (this we could do in the system as well). Then call the `openmc.run()` method. And you immediately see how the k-effective is being estimated.\n",
    "\n",
    "**Note 1**: The results are being stored in a file named 'statepoint.100.h5' (100 refers to the number of batches), also a 'summary.h5' and some other files are created. Sometimes openMC is complaining if there are already existing h5 files, so in this case we can remove (`rm`) these files. For this we make a system call with `os.system` to remove any file for which the name starts with 's' and ands with 'h5'. Nevertheless, be careful with removing files, not to loose data. \n",
    "\n",
    "**Note 2**: Sometimes the python API breaks for no apparent reason, you can just restart the kernel, if that happens. "
   ]
  },
  {
   "cell_type": "code",
   "execution_count": 11,
   "metadata": {},
   "outputs": [
    {
     "name": "stderr",
     "output_type": "stream",
     "text": [
      "rm: cannot remove 's*h5': No such file or directory\n"
     ]
    },
    {
     "name": "stdout",
     "output_type": "stream",
     "text": [
      "                                %%%%%%%%%%%%%%%\n",
      "                           %%%%%%%%%%%%%%%%%%%%%%%%\n",
      "                        %%%%%%%%%%%%%%%%%%%%%%%%%%%%%%\n",
      "                      %%%%%%%%%%%%%%%%%%%%%%%%%%%%%%%%%%\n",
      "                    %%%%%%%%%%%%%%%%%%%%%%%%%%%%%%%%%%%%%%\n",
      "                   %%%%%%%%%%%%%%%%%%%%%%%%%%%%%%%%%%%%%%%%\n",
      "                                    %%%%%%%%%%%%%%%%%%%%%%%%\n",
      "                                     %%%%%%%%%%%%%%%%%%%%%%%%\n",
      "                 ###############      %%%%%%%%%%%%%%%%%%%%%%%%\n",
      "                ##################     %%%%%%%%%%%%%%%%%%%%%%%\n",
      "                ###################     %%%%%%%%%%%%%%%%%%%%%%%\n",
      "                ####################     %%%%%%%%%%%%%%%%%%%%%%\n",
      "                #####################     %%%%%%%%%%%%%%%%%%%%%\n",
      "                ######################     %%%%%%%%%%%%%%%%%%%%\n",
      "                #######################     %%%%%%%%%%%%%%%%%%\n",
      "                 #######################     %%%%%%%%%%%%%%%%%\n",
      "                 ######################     %%%%%%%%%%%%%%%%%\n",
      "                  ####################     %%%%%%%%%%%%%%%%%\n",
      "                    #################     %%%%%%%%%%%%%%%%%\n",
      "                     ###############     %%%%%%%%%%%%%%%%\n",
      "                       ############     %%%%%%%%%%%%%%%\n",
      "                          ########     %%%%%%%%%%%%%%\n",
      "                                      %%%%%%%%%%%\n",
      "\n",
      "                 | The OpenMC Monte Carlo Code\n",
      "       Copyright | 2011-2023 MIT, UChicago Argonne LLC, and contributors\n",
      "         License | https://docs.openmc.org/en/latest/license.html\n",
      "         Version | 0.13.3\n",
      "        Git SHA1 | 27cb0dc97960fe6d750eb5a93584a9a0ca532ac8\n",
      "       Date/Time | 2025-08-07 19:46:52\n",
      "   MPI Processes | 1\n",
      "  OpenMP Threads | 16\n",
      "\n",
      " Reading settings XML file...\n",
      " Reading cross sections XML file...\n",
      " Reading materials XML file...\n",
      " Reading geometry XML file...\n",
      " Reading U235 from /root/endfb-vii.1-hdf5/neutron/U235.h5\n",
      " Reading U238 from /root/endfb-vii.1-hdf5/neutron/U238.h5\n",
      " Reading O16 from /root/endfb-vii.1-hdf5/neutron/O16.h5\n",
      " Reading Zr90 from /root/endfb-vii.1-hdf5/neutron/Zr90.h5\n",
      " Reading Zr91 from /root/endfb-vii.1-hdf5/neutron/Zr91.h5\n",
      " Reading Zr92 from /root/endfb-vii.1-hdf5/neutron/Zr92.h5\n",
      " Reading Zr94 from /root/endfb-vii.1-hdf5/neutron/Zr94.h5\n",
      " Reading Zr96 from /root/endfb-vii.1-hdf5/neutron/Zr96.h5\n",
      " Reading H1 from /root/endfb-vii.1-hdf5/neutron/H1.h5\n",
      " Reading c_H_in_H2O from /root/endfb-vii.1-hdf5/neutron/c_H_in_H2O.h5\n",
      " Minimum neutron data temperature: 294 K\n",
      " Maximum neutron data temperature: 1200 K\n",
      " Reading tallies XML file...\n",
      " Preparing distributed cell instances...\n",
      " Reading plot XML file...\n",
      " Writing summary.h5 file...\n",
      " Maximum neutron transport energy: 20000000 eV for U235\n",
      " Initializing source particles...\n",
      "\n",
      " ====================>     K EIGENVALUE SIMULATION     <====================\n",
      "\n",
      "  Bat./Gen.      k            Average k\n",
      "  =========   ========   ====================\n",
      "        1/1    1.37237\n",
      "        2/1    1.38966\n",
      "        3/1    1.37836\n",
      "        4/1    1.37304\n",
      "        5/1    1.39493\n",
      "        6/1    1.40955\n",
      "        7/1    1.39711\n",
      "        8/1    1.38753\n",
      "        9/1    1.35762\n",
      "       10/1    1.39350\n",
      "       11/1    1.36561\n",
      "       12/1    1.41314    1.38937 +/- 0.02376\n",
      "       13/1    1.41911    1.39929 +/- 0.01693\n",
      "       14/1    1.37238    1.39256 +/- 0.01373\n",
      "       15/1    1.34789    1.38363 +/- 0.01389\n",
      "       16/1    1.38930    1.38457 +/- 0.01138\n",
      "       17/1    1.35858    1.38086 +/- 0.01031\n",
      "       18/1    1.41289    1.38486 +/- 0.00978\n",
      "       19/1    1.40215    1.38678 +/- 0.00884\n",
      "       20/1    1.37868    1.38597 +/- 0.00795\n",
      "       21/1    1.41275    1.38841 +/- 0.00759\n",
      "       22/1    1.39635    1.38907 +/- 0.00696\n",
      "       23/1    1.38068    1.38842 +/- 0.00644\n",
      "       24/1    1.39931    1.38920 +/- 0.00601\n",
      "       25/1    1.41417    1.39087 +/- 0.00584\n",
      "       26/1    1.40143    1.39153 +/- 0.00550\n",
      "       27/1    1.39083    1.39149 +/- 0.00517\n",
      "       28/1    1.34610    1.38896 +/- 0.00548\n",
      "       29/1    1.41991    1.39059 +/- 0.00544\n",
      "       30/1    1.37123    1.38962 +/- 0.00525\n",
      "       31/1    1.39275    1.38977 +/- 0.00499\n",
      "       32/1    1.41150    1.39076 +/- 0.00486\n",
      "       33/1    1.39889    1.39111 +/- 0.00466\n",
      "       34/1    1.40818    1.39183 +/- 0.00452\n",
      "       35/1    1.39078    1.39178 +/- 0.00433\n",
      "       36/1    1.38510    1.39153 +/- 0.00417\n",
      "       37/1    1.36010    1.39036 +/- 0.00418\n",
      "       38/1    1.38488    1.39017 +/- 0.00403\n",
      "       39/1    1.40159    1.39056 +/- 0.00391\n",
      "       40/1    1.40934    1.39119 +/- 0.00383\n",
      "       41/1    1.38327    1.39093 +/- 0.00371\n",
      "       42/1    1.35708    1.38987 +/- 0.00375\n",
      "       43/1    1.38894    1.38985 +/- 0.00363\n",
      "       44/1    1.42276    1.39081 +/- 0.00365\n",
      "       45/1    1.42877    1.39190 +/- 0.00371\n",
      "       46/1    1.40651    1.39230 +/- 0.00363\n",
      "       47/1    1.39498    1.39238 +/- 0.00353\n",
      "       48/1    1.41414    1.39295 +/- 0.00348\n",
      "       49/1    1.38111    1.39265 +/- 0.00341\n",
      "       50/1    1.41311    1.39316 +/- 0.00336\n",
      "       51/1    1.34226    1.39192 +/- 0.00350\n",
      "       52/1    1.38498    1.39175 +/- 0.00342\n",
      "       53/1    1.38844    1.39167 +/- 0.00334\n",
      "       54/1    1.39297    1.39170 +/- 0.00327\n",
      "       55/1    1.38721    1.39160 +/- 0.00319\n",
      "       56/1    1.37273    1.39119 +/- 0.00315\n",
      "       57/1    1.41171    1.39163 +/- 0.00311\n",
      "       58/1    1.36305    1.39103 +/- 0.00311\n",
      "       59/1    1.36037    1.39041 +/- 0.00311\n",
      "       60/1    1.41400    1.39088 +/- 0.00308\n",
      "       61/1    1.38687    1.39080 +/- 0.00302\n",
      "       62/1    1.45499    1.39204 +/- 0.00321\n",
      "       63/1    1.40782    1.39233 +/- 0.00316\n",
      "       64/1    1.37638    1.39204 +/- 0.00312\n",
      "       65/1    1.36523    1.39155 +/- 0.00310\n",
      "       66/1    1.39247    1.39157 +/- 0.00304\n",
      "       67/1    1.37107    1.39121 +/- 0.00301\n",
      "       68/1    1.38221    1.39105 +/- 0.00296\n",
      "       69/1    1.35586    1.39046 +/- 0.00297\n",
      "       70/1    1.36853    1.39009 +/- 0.00294\n",
      "       71/1    1.39724    1.39021 +/- 0.00290\n",
      "       72/1    1.35771    1.38968 +/- 0.00290\n",
      "       73/1    1.41922    1.39015 +/- 0.00289\n",
      "       74/1    1.40161    1.39033 +/- 0.00285\n",
      "       75/1    1.42893    1.39093 +/- 0.00287\n",
      "       76/1    1.38350    1.39081 +/- 0.00283\n",
      "       77/1    1.37744    1.39061 +/- 0.00279\n",
      "       78/1    1.41215    1.39093 +/- 0.00277\n",
      "       79/1    1.40370    1.39111 +/- 0.00273\n",
      "       80/1    1.37993    1.39095 +/- 0.00270\n",
      "       81/1    1.41851    1.39134 +/- 0.00269\n",
      "       82/1    1.41197    1.39163 +/- 0.00267\n",
      "       83/1    1.35694    1.39115 +/- 0.00267\n",
      "       84/1    1.37263    1.39090 +/- 0.00265\n",
      "       85/1    1.37131    1.39064 +/- 0.00263\n",
      "       86/1    1.35146    1.39013 +/- 0.00264\n",
      "       87/1    1.41407    1.39044 +/- 0.00263\n",
      "       88/1    1.40955    1.39068 +/- 0.00260\n",
      "       89/1    1.36995    1.39042 +/- 0.00258\n",
      "       90/1    1.37723    1.39026 +/- 0.00256\n",
      "       91/1    1.37032    1.39001 +/- 0.00254\n",
      "       92/1    1.41435    1.39031 +/- 0.00252\n",
      "       93/1    1.40080    1.39043 +/- 0.00250\n",
      "       94/1    1.36997    1.39019 +/- 0.00248\n",
      "       95/1    1.39933    1.39030 +/- 0.00245\n",
      "       96/1    1.41708    1.39061 +/- 0.00244\n",
      "       97/1    1.37772    1.39046 +/- 0.00242\n",
      "       98/1    1.34724    1.38997 +/- 0.00244\n",
      "       99/1    1.36967    1.38974 +/- 0.00242\n",
      "      100/1    1.36171    1.38943 +/- 0.00242\n",
      " Creating state point statepoint.100.h5...\n",
      "\n",
      " =======================>     TIMING STATISTICS     <=======================\n",
      "\n",
      " Total time for initialization     = 8.6954e-01 seconds\n",
      "   Reading cross sections          = 7.8883e-01 seconds\n",
      " Total time in simulation          = 6.9046e+00 seconds\n",
      "   Time in transport only          = 6.7824e+00 seconds\n",
      "   Time in inactive batches        = 2.4217e-01 seconds\n",
      "   Time in active batches          = 6.6625e+00 seconds\n",
      "   Time synchronizing fission bank = 1.8853e-02 seconds\n",
      "     Sampling source sites         = 1.5736e-02 seconds\n",
      "     SEND/RECV source sites        = 1.4903e-03 seconds\n",
      "   Time accumulating tallies       = 5.9524e-02 seconds\n",
      "   Time writing statepoints        = 2.7971e-02 seconds\n",
      " Total time for finalization       = 9.6746e-03 seconds\n",
      " Total time elapsed                = 7.7879e+00 seconds\n",
      " Calculation Rate (inactive)       = 206463 particles/second\n",
      " Calculation Rate (active)         = 67542.5 particles/second\n",
      "\n",
      " ============================>     RESULTS     <============================\n",
      "\n",
      " k-effective (Collision)     = 1.39229 +/- 0.00189\n",
      " k-effective (Track-length)  = 1.38943 +/- 0.00242\n",
      " k-effective (Absorption)    = 1.39378 +/- 0.00154\n",
      " Combined k-effective        = 1.39348 +/- 0.00147\n",
      " Leakage Fraction            = 0.00000 +/- 0.00000\n",
      "\n"
     ]
    }
   ],
   "source": [
    "import os\n",
    "os.system('rm s*h5')\n",
    "\n",
    "openmc.run()"
   ]
  },
  {
   "cell_type": "markdown",
   "metadata": {},
   "source": [
    "## Post-processing\n",
    "\n",
    "Alright, we did our calculation, we even saw that some k-effective values were printed, but we still haven't seen any more results. For this we will need to read in the statepoint file. We will read this file into an object called `sp`. If we hit TAB while typing `sp.` we can review the available methods and attributes. For example we can get the final k-effective as below."
   ]
  },
  {
   "cell_type": "code",
   "execution_count": 12,
   "metadata": {},
   "outputs": [
    {
     "data": {
      "text/plain": [
       "1.3934755462857478+/-0.0014660230565533981"
      ]
     },
     "execution_count": 12,
     "metadata": {},
     "output_type": "execute_result"
    }
   ],
   "source": [
    "sp = openmc.StatePoint('statepoint.100.h5')\n",
    "sp.keff"
   ]
  },
  {
   "cell_type": "markdown",
   "metadata": {},
   "source": [
    "And the values we can access for further processing or plotting:"
   ]
  },
  {
   "cell_type": "code",
   "execution_count": 13,
   "metadata": {},
   "outputs": [
    {
     "name": "stdout",
     "output_type": "stream",
     "text": [
      "1.3934755462857478 0.0014660230565533981\n"
     ]
    }
   ],
   "source": [
    "keff=sp.keff.nominal_value\n",
    "keff_error=sp.keff.std_dev\n",
    "print(keff,keff_error)"
   ]
  },
  {
   "cell_type": "markdown",
   "metadata": {},
   "source": [
    "The tallies are stored in a dictionary where the keys are the numeric IDs we defined previously:"
   ]
  },
  {
   "cell_type": "code",
   "execution_count": 14,
   "metadata": {},
   "outputs": [
    {
     "data": {
      "text/plain": [
       "{1: Tally\n",
       " \tID             =\t1\n",
       " \tName           =\t\n",
       " \tFilters        =\tCellFilter, EnergyFilter\n",
       " \tNuclides       =\ttotal\n",
       " \tScores         =\t['flux', 'fission']\n",
       " \tEstimator      =\ttracklength,\n",
       " 2: Tally\n",
       " \tID             =\t2\n",
       " \tName           =\t\n",
       " \tFilters        =\tCellFilter, EnergyFilter\n",
       " \tNuclides       =\ttotal\n",
       " \tScores         =\t['flux']\n",
       " \tEstimator      =\ttracklength,\n",
       " 3: Tally\n",
       " \tID             =\t3\n",
       " \tName           =\t\n",
       " \tFilters        =\tMeshFilter, EnergyFilter\n",
       " \tNuclides       =\ttotal\n",
       " \tScores         =\t['flux']\n",
       " \tEstimator      =\ttracklength}"
      ]
     },
     "execution_count": 14,
     "metadata": {},
     "output_type": "execute_result"
    }
   ],
   "source": [
    "sp.tallies"
   ]
  },
  {
   "cell_type": "markdown",
   "metadata": {},
   "source": [
    "We can convert the tally results into pandas dataframes. So at the end we have a nice table, for each energy bin there is a row for the flux and a row for the fission rate. If we prefer we can split the dataframe based on conditions to store separately the flux and the fission rate. For this we can apply conditions as we have seen during the previous datalabs.\n",
    "\n",
    "The results are stored in the 'mean' column."
   ]
  },
  {
   "cell_type": "code",
   "execution_count": 15,
   "metadata": {},
   "outputs": [
    {
     "data": {
      "text/html": [
       "<div>\n",
       "<style scoped>\n",
       "    .dataframe tbody tr th:only-of-type {\n",
       "        vertical-align: middle;\n",
       "    }\n",
       "\n",
       "    .dataframe tbody tr th {\n",
       "        vertical-align: top;\n",
       "    }\n",
       "\n",
       "    .dataframe thead th {\n",
       "        text-align: right;\n",
       "    }\n",
       "</style>\n",
       "<table border=\"1\" class=\"dataframe\">\n",
       "  <thead>\n",
       "    <tr style=\"text-align: right;\">\n",
       "      <th></th>\n",
       "      <th>cell</th>\n",
       "      <th>energy low [eV]</th>\n",
       "      <th>energy high [eV]</th>\n",
       "      <th>nuclide</th>\n",
       "      <th>score</th>\n",
       "      <th>mean</th>\n",
       "      <th>std. dev.</th>\n",
       "    </tr>\n",
       "  </thead>\n",
       "  <tbody>\n",
       "    <tr>\n",
       "      <th>0</th>\n",
       "      <td>1</td>\n",
       "      <td>0.010000</td>\n",
       "      <td>0.010209</td>\n",
       "      <td>total</td>\n",
       "      <td>flux</td>\n",
       "      <td>0.000959</td>\n",
       "      <td>0.000029</td>\n",
       "    </tr>\n",
       "    <tr>\n",
       "      <th>1</th>\n",
       "      <td>1</td>\n",
       "      <td>0.010000</td>\n",
       "      <td>0.010209</td>\n",
       "      <td>total</td>\n",
       "      <td>fission</td>\n",
       "      <td>0.000856</td>\n",
       "      <td>0.000026</td>\n",
       "    </tr>\n",
       "    <tr>\n",
       "      <th>2</th>\n",
       "      <td>1</td>\n",
       "      <td>0.010209</td>\n",
       "      <td>0.010423</td>\n",
       "      <td>total</td>\n",
       "      <td>flux</td>\n",
       "      <td>0.001055</td>\n",
       "      <td>0.000040</td>\n",
       "    </tr>\n",
       "    <tr>\n",
       "      <th>3</th>\n",
       "      <td>1</td>\n",
       "      <td>0.010209</td>\n",
       "      <td>0.010423</td>\n",
       "      <td>total</td>\n",
       "      <td>fission</td>\n",
       "      <td>0.000932</td>\n",
       "      <td>0.000036</td>\n",
       "    </tr>\n",
       "    <tr>\n",
       "      <th>4</th>\n",
       "      <td>1</td>\n",
       "      <td>0.010423</td>\n",
       "      <td>0.010641</td>\n",
       "      <td>total</td>\n",
       "      <td>flux</td>\n",
       "      <td>0.001075</td>\n",
       "      <td>0.000041</td>\n",
       "    </tr>\n",
       "  </tbody>\n",
       "</table>\n",
       "</div>"
      ],
      "text/plain": [
       "   cell  energy low [eV]  energy high [eV] nuclide    score      mean  \\\n",
       "0     1         0.010000          0.010209   total     flux  0.000959   \n",
       "1     1         0.010000          0.010209   total  fission  0.000856   \n",
       "2     1         0.010209          0.010423   total     flux  0.001055   \n",
       "3     1         0.010209          0.010423   total  fission  0.000932   \n",
       "4     1         0.010423          0.010641   total     flux  0.001075   \n",
       "\n",
       "   std. dev.  \n",
       "0   0.000029  \n",
       "1   0.000026  \n",
       "2   0.000040  \n",
       "3   0.000036  \n",
       "4   0.000041  "
      ]
     },
     "execution_count": 15,
     "metadata": {},
     "output_type": "execute_result"
    }
   ],
   "source": [
    "tallydf1=sp.tallies[1].get_pandas_dataframe()\n",
    "tallydf1.head() #prints the first 5 rows"
   ]
  },
  {
   "cell_type": "code",
   "execution_count": 16,
   "metadata": {},
   "outputs": [
    {
     "data": {
      "text/html": [
       "<div>\n",
       "<style scoped>\n",
       "    .dataframe tbody tr th:only-of-type {\n",
       "        vertical-align: middle;\n",
       "    }\n",
       "\n",
       "    .dataframe tbody tr th {\n",
       "        vertical-align: top;\n",
       "    }\n",
       "\n",
       "    .dataframe thead th {\n",
       "        text-align: right;\n",
       "    }\n",
       "</style>\n",
       "<table border=\"1\" class=\"dataframe\">\n",
       "  <thead>\n",
       "    <tr style=\"text-align: right;\">\n",
       "      <th></th>\n",
       "      <th>cell</th>\n",
       "      <th>energy low [eV]</th>\n",
       "      <th>energy high [eV]</th>\n",
       "      <th>nuclide</th>\n",
       "      <th>score</th>\n",
       "      <th>mean</th>\n",
       "      <th>std. dev.</th>\n",
       "    </tr>\n",
       "  </thead>\n",
       "  <tbody>\n",
       "    <tr>\n",
       "      <th>0</th>\n",
       "      <td>1</td>\n",
       "      <td>0.010000</td>\n",
       "      <td>0.010209</td>\n",
       "      <td>total</td>\n",
       "      <td>flux</td>\n",
       "      <td>0.000959</td>\n",
       "      <td>0.000029</td>\n",
       "    </tr>\n",
       "    <tr>\n",
       "      <th>2</th>\n",
       "      <td>1</td>\n",
       "      <td>0.010209</td>\n",
       "      <td>0.010423</td>\n",
       "      <td>total</td>\n",
       "      <td>flux</td>\n",
       "      <td>0.001055</td>\n",
       "      <td>0.000040</td>\n",
       "    </tr>\n",
       "    <tr>\n",
       "      <th>4</th>\n",
       "      <td>1</td>\n",
       "      <td>0.010423</td>\n",
       "      <td>0.010641</td>\n",
       "      <td>total</td>\n",
       "      <td>flux</td>\n",
       "      <td>0.001075</td>\n",
       "      <td>0.000041</td>\n",
       "    </tr>\n",
       "    <tr>\n",
       "      <th>6</th>\n",
       "      <td>1</td>\n",
       "      <td>0.010641</td>\n",
       "      <td>0.010864</td>\n",
       "      <td>total</td>\n",
       "      <td>flux</td>\n",
       "      <td>0.001170</td>\n",
       "      <td>0.000041</td>\n",
       "    </tr>\n",
       "    <tr>\n",
       "      <th>8</th>\n",
       "      <td>1</td>\n",
       "      <td>0.010864</td>\n",
       "      <td>0.011092</td>\n",
       "      <td>total</td>\n",
       "      <td>flux</td>\n",
       "      <td>0.001164</td>\n",
       "      <td>0.000042</td>\n",
       "    </tr>\n",
       "  </tbody>\n",
       "</table>\n",
       "</div>"
      ],
      "text/plain": [
       "   cell  energy low [eV]  energy high [eV] nuclide score      mean  std. dev.\n",
       "0     1         0.010000          0.010209   total  flux  0.000959   0.000029\n",
       "2     1         0.010209          0.010423   total  flux  0.001055   0.000040\n",
       "4     1         0.010423          0.010641   total  flux  0.001075   0.000041\n",
       "6     1         0.010641          0.010864   total  flux  0.001170   0.000041\n",
       "8     1         0.010864          0.011092   total  flux  0.001164   0.000042"
      ]
     },
     "execution_count": 16,
     "metadata": {},
     "output_type": "execute_result"
    }
   ],
   "source": [
    "tallydf1flux=tallydf1[tallydf1['score']=='flux']\n",
    "tallydf1fiss=tallydf1[tallydf1['score']=='fission']\n",
    "tallydf1flux.head()"
   ]
  },
  {
   "cell_type": "markdown",
   "metadata": {},
   "source": [
    "Let's plot these results."
   ]
  },
  {
   "cell_type": "code",
   "execution_count": 32,
   "metadata": {},
   "outputs": [
    {
     "data": {
      "image/png": "[encoded data removed]",
      "text/plain": [
       "<Figure size 640x480 with 1 Axes>"
      ]
     },
     "metadata": {},
     "output_type": "display_data"
    }
   ],
   "source": [
    "energy=(tallydf1flux['energy low [eV]']+tallydf1flux['energy high [eV]'])/2\n",
    "plt.figure()\n",
    "plt.loglog(energy,tallydf1flux['mean'])\n",
    "plt.xlabel('energy (eV)')\n",
    "plt.ylabel('Group flux per source particle')\n",
    "plt.show()\n"
   ]
  },
  {
   "cell_type": "markdown",
   "metadata": {},
   "source": [
    "These of course does not look like the spectrum we saw during the lecture. But here actually each value is not the flux at a certain energy, but the integral of the flux between energies. If we divide the integral flux with the width of the bins (`deltaE`) we get the more familiar shape for the spectrum.\n",
    "\n",
    "We can clearly see the Maxwellien thermal component, the 1/E part with the self-shielding effect of the resonances, and the Watt-spectrum at high energies.\n",
    "\n",
    "The very first \"negative\" peak is due to the 6.67 eV resonance of U-238."
   ]
  },
  {
   "cell_type": "code",
   "execution_count": 18,
   "metadata": {},
   "outputs": [
    {
     "data": {
      "image/png": "[encoded data removed]",
      "text/plain": [
       "<Figure size 640x480 with 1 Axes>"
      ]
     },
     "metadata": {},
     "output_type": "display_data"
    }
   ],
   "source": [
    "deltaEf1=(tallydf1flux['energy high [eV]']-tallydf1flux['energy low [eV]'])\n",
    "plt.figure()\n",
    "plt.loglog(energy,tallydf1flux['mean']/deltaEf1,lw=2)\n",
    "\n",
    "plt.ylabel('Spectrum per source particle (1/eV)')\n",
    "plt.xlabel('Energy (eV)')\n",
    "plt.show()"
   ]
  },
  {
   "cell_type": "markdown",
   "metadata": {},
   "source": [
    "Now it is your turn to plot the spectrum in the moderator (preferably include both the fuel and the moderator spectrum in the same figure). You will need to `get_pandas_dataframe` from tally 2, and then plot the results. Compare with the spectrum in the fuel, what is the most noticable difference?"
   ]
  },
  {
   "cell_type": "code",
   "execution_count": 33,
   "metadata": {},
   "outputs": [
    {
     "data": {
      "image/png": "[encoded data removed]",
      "text/plain": [
       "<Figure size 640x480 with 1 Axes>"
      ]
     },
     "metadata": {},
     "output_type": "display_data"
    }
   ],
   "source": [
    "tallydf2=sp.tallies[2].get_pandas_dataframe()\n",
    "tallydf2flux=tallydf2[tallydf2['score']=='flux']\n",
    "deltaEf2=(tallydf2flux['energy high [eV]']-tallydf2flux['energy low [eV]'])\n",
    "\n",
    "energyf2=(tallydf2flux['energy low [eV]']+tallydf2flux['energy high [eV]'])/2\n",
    "\n",
    "deltaEf1=(tallydf1flux['energy high [eV]']-tallydf1flux['energy low [eV]'])\n",
    "plt.figure()\n",
    "plt.loglog(energy,tallydf1flux['mean']/deltaEf1,lw=2, label=\"Fuel\")\n",
    "\n",
    "plt.ylabel('Spectrum per source particle (1/eV)')\n",
    "plt.xlabel('Energy (eV)')\n",
    "\n",
    "plt.loglog(energyf2,tallydf2flux['mean']/deltaEf2,lw=2, label=\"Moderator\")\n",
    "\n",
    "plt.ylabel('Spectrum per source particle (1/eV)')\n",
    "plt.xlabel('Energy (eV)')\n",
    "plt.legend()\n",
    "plt.show()"
   ]
  },
  {
   "cell_type": "markdown",
   "metadata": {},
   "source": [
    "The most notacible difference is that we don't see the resonances in the linear part. The moderator is also a bit higher spectrum per source particle for most of the spectrum.\n"
   ]
  },
  {
   "cell_type": "markdown",
   "metadata": {},
   "source": [
    "Finally, we can look at the spatial dependence of the flux. We read in the 3rd tally. Try to split the dataset according to the energy groups and plot the flux vs x-coordinate for the three energy groups separately. Normalize each curve by their maximum, so they are comparable.\n",
    "\n",
    "Conclude your findings!"
   ]
  },
  {
   "cell_type": "code",
   "execution_count": 31,
   "metadata": {},
   "outputs": [
    {
     "data": {
      "text/html": [
       "<div>\n",
       "<style scoped>\n",
       "    .dataframe tbody tr th:only-of-type {\n",
       "        vertical-align: middle;\n",
       "    }\n",
       "\n",
       "    .dataframe tbody tr th {\n",
       "        vertical-align: top;\n",
       "    }\n",
       "\n",
       "    .dataframe thead tr th {\n",
       "        text-align: left;\n",
       "    }\n",
       "</style>\n",
       "<table border=\"1\" class=\"dataframe\">\n",
       "  <thead>\n",
       "    <tr>\n",
       "      <th></th>\n",
       "      <th colspan=\"3\" halign=\"left\">mesh 1</th>\n",
       "      <th>energy low [eV]</th>\n",
       "      <th>energy high [eV]</th>\n",
       "      <th>nuclide</th>\n",
       "      <th>score</th>\n",
       "      <th>mean</th>\n",
       "      <th>std. dev.</th>\n",
       "    </tr>\n",
       "    <tr>\n",
       "      <th></th>\n",
       "      <th>x</th>\n",
       "      <th>y</th>\n",
       "      <th>z</th>\n",
       "      <th></th>\n",
       "      <th></th>\n",
       "      <th></th>\n",
       "      <th></th>\n",
       "      <th></th>\n",
       "      <th></th>\n",
       "    </tr>\n",
       "  </thead>\n",
       "  <tbody>\n",
       "    <tr>\n",
       "      <th>0</th>\n",
       "      <td>1</td>\n",
       "      <td>1</td>\n",
       "      <td>1</td>\n",
       "      <td>0.0</td>\n",
       "      <td>1.0</td>\n",
       "      <td>total</td>\n",
       "      <td>flux</td>\n",
       "      <td>0.058643</td>\n",
       "      <td>0.000168</td>\n",
       "    </tr>\n",
       "    <tr>\n",
       "      <th>1</th>\n",
       "      <td>1</td>\n",
       "      <td>1</td>\n",
       "      <td>1</td>\n",
       "      <td>1.0</td>\n",
       "      <td>100000.0</td>\n",
       "      <td>total</td>\n",
       "      <td>flux</td>\n",
       "      <td>0.157184</td>\n",
       "      <td>0.000217</td>\n",
       "    </tr>\n",
       "    <tr>\n",
       "      <th>2</th>\n",
       "      <td>1</td>\n",
       "      <td>1</td>\n",
       "      <td>1</td>\n",
       "      <td>100000.0</td>\n",
       "      <td>20000000.0</td>\n",
       "      <td>total</td>\n",
       "      <td>flux</td>\n",
       "      <td>0.184829</td>\n",
       "      <td>0.000275</td>\n",
       "    </tr>\n",
       "    <tr>\n",
       "      <th>3</th>\n",
       "      <td>2</td>\n",
       "      <td>1</td>\n",
       "      <td>1</td>\n",
       "      <td>0.0</td>\n",
       "      <td>1.0</td>\n",
       "      <td>total</td>\n",
       "      <td>flux</td>\n",
       "      <td>0.058576</td>\n",
       "      <td>0.000163</td>\n",
       "    </tr>\n",
       "    <tr>\n",
       "      <th>4</th>\n",
       "      <td>2</td>\n",
       "      <td>1</td>\n",
       "      <td>1</td>\n",
       "      <td>1.0</td>\n",
       "      <td>100000.0</td>\n",
       "      <td>total</td>\n",
       "      <td>flux</td>\n",
       "      <td>0.157331</td>\n",
       "      <td>0.000210</td>\n",
       "    </tr>\n",
       "  </tbody>\n",
       "</table>\n",
       "</div>"
      ],
      "text/plain": [
       "  mesh 1       energy low [eV] energy high [eV] nuclide score      mean  \\\n",
       "       x  y  z                                                            \n",
       "0      1  1  1             0.0              1.0   total  flux  0.058643   \n",
       "1      1  1  1             1.0         100000.0   total  flux  0.157184   \n",
       "2      1  1  1        100000.0       20000000.0   total  flux  0.184829   \n",
       "3      2  1  1             0.0              1.0   total  flux  0.058576   \n",
       "4      2  1  1             1.0         100000.0   total  flux  0.157331   \n",
       "\n",
       "  std. dev.  \n",
       "             \n",
       "0  0.000168  \n",
       "1  0.000217  \n",
       "2  0.000275  \n",
       "3  0.000163  \n",
       "4  0.000210  "
      ]
     },
     "execution_count": 31,
     "metadata": {},
     "output_type": "execute_result"
    }
   ],
   "source": [
    "tallydf3=sp.tallies[3].get_pandas_dataframe()\n",
    "tallydf3.head()"
   ]
  },
  {
   "cell_type": "code",
   "execution_count": 49,
   "metadata": {},
   "outputs": [
    {
     "data": {
      "image/png": "[encoded data removed]",
      "text/plain": [
       "<Figure size 640x480 with 1 Axes>"
      ]
     },
     "metadata": {},
     "output_type": "display_data"
    }
   ],
   "source": [
    "tallydf3=sp.tallies[3].get_pandas_dataframe()\n",
    "tallydf3flux=tallydf3[tallydf3['score']=='flux']\n",
    "deltaEf3=(tallydf3flux['energy high [eV]']-tallydf3flux['energy low [eV]'])\n",
    "\n",
    "energyf3=(tallydf3flux['energy low [eV]']+tallydf3flux['energy high [eV]'])/2\n",
    "\n",
    "plt.figure()\n",
    "plt.loglog(tallydf3flux['mesh 1']['x'][::3],tallydf3flux['mean'].iloc[::3]/tallydf3flux['mean'].iloc[::3].max(),lw=2, label=\"E = [0,1] eV\")\n",
    "plt.loglog(tallydf3flux['mesh 1']['x'][1::3],tallydf3flux['mean'].iloc[1::3]/tallydf3flux['mean'].iloc[1::3].max(),lw=2, label=\"E = [1, 1e+5] eV\")\n",
    "plt.loglog(tallydf3flux['mesh 1']['x'][2::3],tallydf3flux['mean'].iloc[2::3]/tallydf3flux['mean'].iloc[2::3].max(),lw=2, label=\"E = [1e+5, 2e+7] eV\")\n",
    "plt.ylabel('Spectrum per source particle (1/eV)')\n",
    "plt.xlabel('x coordinate ')\n",
    "plt.legend()\n",
    "plt.show()"
   ]
  },
  {
   "cell_type": "markdown",
   "metadata": {},
   "source": [
    "Thermal neutrons at lower energies shows a large spacial dependence where the flux drops a lot at x = 14/15. This could indicate a high abosorption or leakage for this energy. \n",
    "At higher energies we can se the same results but in a smaller scale. We still se spacial dependence with a lower value around x = 14 but it it much higher than the thermal neutrons. This level maintains the highest normalzied vlaue for the majority of the time compared to the other two energies, where the lowest energy also maintain a fairly high level for half of the x-range.\n",
    "Lastly, the highest energy nuetrons differ from the other two examples. Firstly, it starts on a lower normalized value, and keeps this low value and have a maxima where the other two have a minima. "
   ]
  },
  {
   "cell_type": "markdown",
   "metadata": {},
   "source": [
    "## Experiment time!\n",
    "\n",
    "If time permits, modify your input, and see how the results change. Points of interest:\n",
    "\n",
    "- Change the void content (ie. decrease the moderator density), and observe how the k-eff changes. What happens with the spectrum?\n",
    "- What is the impact on the k-eff if you change the UO2 temperature?\n",
    "- What is the impact of increasing the pitch of the pincell?\n",
    "\n",
    "You can also take a look at the third set of home assignments, where you will need to implement various geometries in openMC, and already give it a try."
   ]
  },
  {
   "cell_type": "code",
   "execution_count": null,
   "metadata": {},
   "outputs": [],
   "source": []
  }
 ],
 "metadata": {
  "kernelspec": {
   "display_name": "Python 3 (ipykernel)",
   "language": "python",
   "name": "python3"
  },
  "language_info": {
   "codemirror_mode": {
    "name": "ipython",
    "version": 3
   },
   "file_extension": ".py",
   "mimetype": "text/x-python",
   "name": "python",
   "nbconvert_exporter": "python",
   "pygments_lexer": "ipython3",
   "version": "3.9.2"
  }
 },
 "nbformat": 4,
 "nbformat_minor": 4
}
